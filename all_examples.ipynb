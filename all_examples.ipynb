{
 "cells": [
  {
   "cell_type": "code",
   "execution_count": 17,
   "metadata": {},
   "outputs": [
    {
     "name": "stdout",
     "output_type": "stream",
     "text": [
      "[0, 1, 4, 9, 16, 25, 36, 49, 64, 81, 100, 121, 144, 169, 196, 225, 256, 289, 324, 361]\n",
      "program run for: 4.06s\n"
     ]
    }
   ],
   "source": [
    "#pool.py\n",
    "from multiprocessing import Pool\n",
    "import time\n",
    "\n",
    "def f(x):\n",
    "    time.sleep(0.2)\n",
    "    return x*x\n",
    "\n",
    "if __name__ == '__main__':\n",
    "    start_time = time.time()\n",
    "\n",
    "    arguments = [0,1,2,3,4,5,6,7,8,9,10,11,12,13,14,15,16,17,18,19]\n",
    "    # arguments = list(range(20))\n",
    "    result = []\n",
    "    for arg in arguments:\n",
    "        result.append(f(arg))\n",
    "\n",
    "    print(result)\n",
    "    end_time = time.time()\n",
    "\n",
    "    print(f\"program run for: {end_time-start_time:.2f}s\")\n"
   ]
  },
  {
   "cell_type": "code",
   "execution_count": 18,
   "metadata": {},
   "outputs": [
    {
     "name": "stdout",
     "output_type": "stream",
     "text": [
      "[0, 1, 4, 9, 16, 25, 36, 49, 64, 81, 100, 121, 144, 169, 196, 225, 256, 289, 324, 361]\n",
      "program run for: 4.07s\n"
     ]
    }
   ],
   "source": [
    "#noPool.py\n",
    "import time\n",
    "def f(x):\n",
    "    time.sleep(0.2)\n",
    "    return x*x\n",
    "\n",
    "if __name__ == '__main__':\n",
    "    start_time = time.time()\n",
    "\n",
    "    arguments = [0,1,2,3,4,5,6,7,8,9,10,11,12,13,14,15,16,17,18,19]\n",
    "    # arguments = list(range(20))\n",
    "    result = []\n",
    "    for arg in arguments:\n",
    "        result.append(f(arg))\n",
    "\n",
    "    print(result)\n",
    "    end_time = time.time()\n",
    "\n",
    "    print(f\"program run for: {end_time-start_time:.2f}s\")\n"
   ]
  },
  {
   "cell_type": "code",
   "execution_count": 19,
   "metadata": {},
   "outputs": [
    {
     "name": "stdout",
     "output_type": "stream",
     "text": [
      "program run for: 0.64s\n"
     ]
    }
   ],
   "source": [
    "#Processes.py\n",
    "\n",
    "import multiprocessing as mp\n",
    "import time\n",
    "mp.set_start_method('fork')\n",
    "\n",
    "def f(x):\n",
    "    time.sleep(0.2)\n",
    "    print(x*x,end=\", \")\n",
    "    # return x*x\n",
    "\n",
    "if __name__ == '__main__':\n",
    "    start_time = time.time()\n",
    "\n",
    "    arguments = [0,1,2,3,4,5,6,7,8,9,10,11,12,13,14,15,16,17,18,19]\n",
    "    # arguments = list(range(20))\n",
    "    processes = []\n",
    "\n",
    "    for arg in arguments:\n",
    "        processes.append(mp.Process(target=f,args=(arg,),))\n",
    "    for process in processes:\n",
    "        process.start()\n",
    "    for process in processes:\n",
    "        process.join()\n",
    "\n",
    "    end_time = time.time()\n",
    "\n",
    "    print(f\"program run for: {end_time-start_time:.2f}s\")\n"
   ]
  },
  {
   "cell_type": "code",
   "execution_count": 20,
   "metadata": {},
   "outputs": [],
   "source": [
    "#Pipe.py\n",
    "from multiprocessing import Process, Pipe\n",
    "\n",
    "def f(conn):\n",
    "    conn.send([42, None, 'helloFromProcess'])\n",
    "    conn.send([42, None, 'helloFromProcess1'])\n",
    "    conn.send([42, None, 'helloFromProcess2'])\n",
    "\n",
    "def f_read(conn):\n",
    "    print(\"other pocess recv: \", conn.recv())\n",
    "    print(\"other pocess recv: \", conn.recv())\n",
    "\n",
    "if __name__ == '__main__':\n",
    "    parent_conn, child_conn = Pipe()\n",
    "    p = Process(target=f, args=(child_conn,))\n",
    "    p2 = Process(target=f_read, args=(parent_conn,))\n",
    "\n",
    "    p.start()\n",
    "    p2.start()\n",
    "    p2.join()\n",
    "    p.join()"
   ]
  },
  {
   "cell_type": "code",
   "execution_count": 21,
   "metadata": {},
   "outputs": [],
   "source": [
    "#que.py\n",
    "import multiprocessing as mp\n",
    "import time\n",
    "def f(q):\n",
    "    q.put(['hello'])\n",
    "\n",
    "\n",
    "def f_read(q):\n",
    "    print(q.get())\n",
    "def f_read_nowait(q):\n",
    "    print(q.get_nowait())\n",
    "\n",
    "if __name__ == '__main__':\n",
    "    q = mp.Queue()\n",
    "    p = mp.Process(target=f, args=(q,))\n",
    "    p2 = mp.Process(target=f_read, args=(q,))\n",
    "    p3 = mp.Process(target=f_read_nowait, args=(q,))\n",
    "    # q.put(obj,block,timeout)\n",
    "    p.start()\n",
    "    p2.start()\n",
    "    p3.start()\n",
    "    p.join()\n",
    "    p2.join()\n",
    "    p3.join()\n"
   ]
  },
  {
   "cell_type": "code",
   "execution_count": 22,
   "metadata": {},
   "outputs": [
    {
     "name": "stdout",
     "output_type": "stream",
     "text": [
      "0.0\n",
      "[0, 1, 2, 3, 4, 5, 6, 7, 8, 9]\n",
      "[0]\n",
      "123.45\n",
      "[0, -1, -2, -3, -4, -5, -6, -7, -8, -9]\n",
      "[0, 1]\n"
     ]
    }
   ],
   "source": [
    "#Shared_mem.py\n",
    "from multiprocessing import Process, Value, Array\n",
    "\n",
    "def f(n, a, normal_variable):\n",
    "    normal_variable.append(1)\n",
    "    n.value = 123.45\n",
    "    for i in range(len(a)):\n",
    "        a[i] = -a[i]\n",
    "\n",
    "if __name__ == '__main__':\n",
    "    num = Value('d', 0.0)\n",
    "    arr = Array('i', range(10))\n",
    "    normal_variable = [0]\n",
    "    p = Process(target=f, args=(num, arr, normal_variable))\n",
    "    p.start()\n",
    "    p.join()\n",
    "\n",
    "    print(num.value)\n",
    "    print(arr[:])\n",
    "    print(normal_variable)\n",
    "\n",
    "    f(num, arr, normal_variable)\n",
    "    print(num.value)\n",
    "    print(arr[:])\n",
    "    print(normal_variable)\n"
   ]
  },
  {
   "cell_type": "code",
   "execution_count": 23,
   "metadata": {},
   "outputs": [
    {
     "name": "stdout",
     "output_type": "stream",
     "text": [
      "concurently:\n",
      "sequential:\n",
      "using lock:\n"
     ]
    }
   ],
   "source": [
    "#lock.py\n",
    "from multiprocessing import Process, Lock, Value\n",
    "import time\n",
    "\n",
    "def f(l, i, num):\n",
    "    l.acquire()\n",
    "    num.value = num.value+1\n",
    "    time.sleep(0.2)\n",
    "    try:\n",
    "        print(f'called : {i}, number of functions at same time:{num.value}')\n",
    "    finally:\n",
    "        num.value = num.value-1\n",
    "        l.release()\n",
    "\n",
    "def f2(lock,i,num):\n",
    "    num.value = num.value+1\n",
    "    time.sleep(0.2)\n",
    "    print(f'called : {i}, number of functions at same time:{num.value}')\n",
    "    num.value = num.value-1\n",
    "\n",
    "if __name__ == '__main__':\n",
    "    lock = Lock()\n",
    "    num = Value('i', 0)\n",
    "    print(\"concurently:\")\n",
    "    processes=[]\n",
    "    for i in range(10):\n",
    "        processes.append(Process(target=f2, args=(lock, i, num)))\n",
    "        processes[i].start()\n",
    "    for i in range(10):\n",
    "        processes[i].join()\n",
    "    print(\"sequential:\")\n",
    "    for i in range(10):\n",
    "        p = Process(target=f2, args=(lock, i, num))\n",
    "        p.start()\n",
    "        p.join()\n",
    "    print(\"using lock:\")\n",
    "    for i in range(10):\n",
    "        Process(target=f, args=(lock, i, num)).start()\n"
   ]
  }
 ],
 "metadata": {
  "interpreter": {
   "hash": "968ee810a0ced5ddf56f50aabcb135dea377da2511628f6117e632e249d27295"
  },
  "kernelspec": {
   "display_name": "Python 3.9.9 64-bit",
   "language": "python",
   "name": "python3"
  },
  "language_info": {
   "codemirror_mode": {
    "name": "ipython",
    "version": 3
   },
   "file_extension": ".py",
   "mimetype": "text/x-python",
   "name": "python",
   "nbconvert_exporter": "python",
   "pygments_lexer": "ipython3",
   "version": "3.9.9"
  },
  "orig_nbformat": 4
 },
 "nbformat": 4,
 "nbformat_minor": 2
}
